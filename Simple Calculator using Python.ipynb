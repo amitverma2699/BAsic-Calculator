{
 "cells": [
  {
   "cell_type": "markdown",
   "id": "8dd0ef60",
   "metadata": {},
   "source": [
    "# Simple Calculator "
   ]
  },
  {
   "cell_type": "code",
   "execution_count": null,
   "id": "2be231e8",
   "metadata": {},
   "outputs": [],
   "source": [
    "Expression=input(\"(add/subtract/division/multiply):- \")\n",
    "\n",
    "value1=float(input(\"enter the value1:- \"))\n",
    "value2=float(input(\"enter the value2:- \"))\n",
    "\n",
    "if Expression == \"add\":\n",
    "    print(value1,\"+\", value2, \"=\", value1+value2)\n",
    "    \n",
    "elif Expression == \"subtract\":\n",
    "    print(value1,\"-\", value2, \"=\", value1-value2)\n",
    "    \n",
    "elif Expression == \"division\":\n",
    "    print(value1,\"/\", value2, \"=\", value1/value2)\n",
    "    \n",
    "elif Expression == \"multiply\":\n",
    "    print(value1,\"*\", value2, \"=\", value1*value2)\n",
    "\n",
    "else:\n",
    "    print(\"Wrong choice\")"
   ]
  },
  {
   "cell_type": "code",
   "execution_count": null,
   "id": "d5759842",
   "metadata": {},
   "outputs": [],
   "source": []
  }
 ],
 "metadata": {
  "kernelspec": {
   "display_name": "Python 3 (ipykernel)",
   "language": "python",
   "name": "python3"
  },
  "language_info": {
   "codemirror_mode": {
    "name": "ipython",
    "version": 3
   },
   "file_extension": ".py",
   "mimetype": "text/x-python",
   "name": "python",
   "nbconvert_exporter": "python",
   "pygments_lexer": "ipython3",
   "version": "3.10.9"
  }
 },
 "nbformat": 4,
 "nbformat_minor": 5
}
